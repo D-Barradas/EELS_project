{
 "cells": [
  {
   "cell_type": "code",
   "execution_count": 2,
   "id": "73b4a469",
   "metadata": {},
   "outputs": [],
   "source": [
    "%matplotlib qt"
   ]
  },
  {
   "cell_type": "code",
   "execution_count": 3,
   "id": "26c83d6d-fa6f-40f2-9137-a6577aea3ef3",
   "metadata": {},
   "outputs": [],
   "source": [
    "# %load ../scr/test.py\n",
    "#%%\n",
    "import hyperspy.api as hs\n",
    "import numpy as np\n",
    "import matplotlib.pyplot as plt\n",
    "#%%"
   ]
  },
  {
   "cell_type": "code",
   "execution_count": 4,
   "id": "459446fd-9225-40cf-8350-540b64e5f5ea",
   "metadata": {},
   "outputs": [],
   "source": [
    "# my_file = hs.load(\"../SI data/ADF Image (SI Survey).dm4\")\n",
    "my_file = hs.load(\"../SI data/EELS Spectrum Image (low-loss).dm4\")\n",
    "#EELS Spectrum Image (low-loss).dm4"
   ]
  },
  {
   "cell_type": "code",
   "execution_count": 5,
   "id": "7dfd282e-810f-43e3-bfdd-2cd779ad9bab",
   "metadata": {},
   "outputs": [],
   "source": [
    "# %%\n",
    "## plot an example not realted to the data\n",
    "hs.datasets.example_signals.EDS_TEM_Spectrum().plot()\n",
    "# %%"
   ]
  },
  {
   "cell_type": "code",
   "execution_count": 6,
   "id": "1dea9ada-c6c5-4a55-a7e4-bd3298f599fe",
   "metadata": {},
   "outputs": [
    {
     "name": "stdout",
     "output_type": "stream",
     "text": [
      "<class 'hyperspy._signals.eels.EELSSpectrum'>\n"
     ]
    }
   ],
   "source": [
    "my_file\n",
    "# %%\n",
    "## to check the file type \n",
    "## <class 'hyperspy._signals.signal2d.Signal2D'>\n",
    "print ( type( my_file ) ) \n",
    "# %%\n",
    "## shows the meta data \n",
    "### access the title , date if the image is \n",
    "### binned \n",
    "### this is better used on the notebook"
   ]
  },
  {
   "cell_type": "code",
   "execution_count": 7,
   "id": "ab9b4aba-dd8c-46a9-b990-b4b8ba23edc0",
   "metadata": {},
   "outputs": [
    {
     "data": {
      "text/html": [
       "<ul style=\"margin: 0px; list-style-position: outside;\">\n",
       "                    <details open>\n",
       "                    <summary style=\"display: list-item;\">\n",
       "                    <li style=\"display: inline;\">\n",
       "                    Acquisition_instrument\n",
       "                    </li></summary>\n",
       "                    <ul style=\"margin: 0px; list-style-position: outside;\">\n",
       "                    <details closed>\n",
       "                    <summary style=\"display: list-item;\">\n",
       "                    <li style=\"display: inline;\">\n",
       "                    TEM\n",
       "                    </li></summary>\n",
       "                    <ul style=\"margin: 0px; list-style-position: outside;\">\n",
       "                    <details closed>\n",
       "                    <summary style=\"display: list-item;\">\n",
       "                    <li style=\"display: inline;\">\n",
       "                    Detector\n",
       "                    </li></summary>\n",
       "                    <ul style=\"margin: 0px; list-style-position: outside;\">\n",
       "                    <details closed>\n",
       "                    <summary style=\"display: list-item;\">\n",
       "                    <li style=\"display: inline;\">\n",
       "                    EELS\n",
       "                    </li></summary>\n",
       "                    \n",
       "    <ul style=\"margin: 0px; list-style-position: outside;\">\n",
       "    <li style='margin-left:1em; padding-left: 0.5em'>aperture_size = 5.0</li></ul>\n",
       "    \n",
       "    <ul style=\"margin: 0px; list-style-position: outside;\">\n",
       "    <li style='margin-left:1em; padding-left: 0.5em'>collection_angle = 38.0</li></ul>\n",
       "    \n",
       "    <ul style=\"margin: 0px; list-style-position: outside;\">\n",
       "    <li style='margin-left:1em; padding-left: 0.5em'>dwell_time = 9.990009990009651e-06</li></ul>\n",
       "    \n",
       "    <ul style=\"margin: 0px; list-style-position: outside;\">\n",
       "    <li style='margin-left:1em; padding-left: 0.5em'>frame_number = 1</li></ul>\n",
       "    \n",
       "    <ul style=\"margin: 0px; list-style-position: outside;\">\n",
       "    <li style='margin-left:1em; padding-left: 0.5em'>spectrometer = GIF Quantum ERS</li></ul>\n",
       "    </details></ul></details></ul><ul style=\"margin: 0px; list-style-position: outside;\">\n",
       "                    <details closed>\n",
       "                    <summary style=\"display: list-item;\">\n",
       "                    <li style=\"display: inline;\">\n",
       "                    Stage\n",
       "                    </li></summary>\n",
       "                    \n",
       "    <ul style=\"margin: 0px; list-style-position: outside;\">\n",
       "    <li style='margin-left:1em; padding-left: 0.5em'>tilt_alpha = 0.006832006044919449</li></ul>\n",
       "    \n",
       "    <ul style=\"margin: 0px; list-style-position: outside;\">\n",
       "    <li style='margin-left:1em; padding-left: 0.5em'>x = -0.07070080000000001</li></ul>\n",
       "    \n",
       "    <ul style=\"margin: 0px; list-style-position: outside;\">\n",
       "    <li style='margin-left:1em; padding-left: 0.5em'>y = -0.0820228</li></ul>\n",
       "    \n",
       "    <ul style=\"margin: 0px; list-style-position: outside;\">\n",
       "    <li style='margin-left:1em; padding-left: 0.5em'>z = -0.041108200000000004</li></ul>\n",
       "    </details></ul>\n",
       "    <ul style=\"margin: 0px; list-style-position: outside;\">\n",
       "    <li style='margin-left:1em; padding-left: 0.5em'>acquisition_mode = STEM</li></ul>\n",
       "    \n",
       "    <ul style=\"margin: 0px; list-style-position: outside;\">\n",
       "    <li style='margin-left:1em; padding-left: 0.5em'>beam_current = 1.0</li></ul>\n",
       "    \n",
       "    <ul style=\"margin: 0px; list-style-position: outside;\">\n",
       "    <li style='margin-left:1em; padding-left: 0.5em'>beam_energy = 300.0</li></ul>\n",
       "    \n",
       "    <ul style=\"margin: 0px; list-style-position: outside;\">\n",
       "    <li style='margin-left:1em; padding-left: 0.5em'>camera_length = 29.5</li></ul>\n",
       "    \n",
       "    <ul style=\"margin: 0px; list-style-position: outside;\">\n",
       "    <li style='margin-left:1em; padding-left: 0.5em'>convergence_angle = 17.0</li></ul>\n",
       "    \n",
       "    <ul style=\"margin: 0px; list-style-position: outside;\">\n",
       "    <li style='margin-left:1em; padding-left: 0.5em'>magnification = 225000.0</li></ul>\n",
       "    \n",
       "    <ul style=\"margin: 0px; list-style-position: outside;\">\n",
       "    <li style='margin-left:1em; padding-left: 0.5em'>microscope = FEI Tecnai Remote</li></ul>\n",
       "    </details></ul></details></ul><ul style=\"margin: 0px; list-style-position: outside;\">\n",
       "                    <details open>\n",
       "                    <summary style=\"display: list-item;\">\n",
       "                    <li style=\"display: inline;\">\n",
       "                    General\n",
       "                    </li></summary>\n",
       "                    \n",
       "    <ul style=\"margin: 0px; list-style-position: outside;\">\n",
       "    <li style='margin-left:1em; padding-left: 0.5em'>date = 2021-09-12</li></ul>\n",
       "    \n",
       "    <ul style=\"margin: 0px; list-style-position: outside;\">\n",
       "    <li style='margin-left:1em; padding-left: 0.5em'>original_filename = EELS Spectrum Image (low-loss).dm4</li></ul>\n",
       "    \n",
       "    <ul style=\"margin: 0px; list-style-position: outside;\">\n",
       "    <li style='margin-left:1em; padding-left: 0.5em'>time = 15:55:35</li></ul>\n",
       "    \n",
       "    <ul style=\"margin: 0px; list-style-position: outside;\">\n",
       "    <li style='margin-left:1em; padding-left: 0.5em'>title = EELS Spectrum Image (low-loss)</li></ul>\n",
       "    </details></ul><ul style=\"margin: 0px; list-style-position: outside;\">\n",
       "                    <details open>\n",
       "                    <summary style=\"display: list-item;\">\n",
       "                    <li style=\"display: inline;\">\n",
       "                    Signal\n",
       "                    </li></summary>\n",
       "                    <ul style=\"margin: 0px; list-style-position: outside;\">\n",
       "                    <details closed>\n",
       "                    <summary style=\"display: list-item;\">\n",
       "                    <li style=\"display: inline;\">\n",
       "                    Noise_properties\n",
       "                    </li></summary>\n",
       "                    <ul style=\"margin: 0px; list-style-position: outside;\">\n",
       "                    <details closed>\n",
       "                    <summary style=\"display: list-item;\">\n",
       "                    <li style=\"display: inline;\">\n",
       "                    Variance_linear_model\n",
       "                    </li></summary>\n",
       "                    \n",
       "    <ul style=\"margin: 0px; list-style-position: outside;\">\n",
       "    <li style='margin-left:1em; padding-left: 0.5em'>gain_factor = 1.0</li></ul>\n",
       "    \n",
       "    <ul style=\"margin: 0px; list-style-position: outside;\">\n",
       "    <li style='margin-left:1em; padding-left: 0.5em'>gain_offset = 0.0</li></ul>\n",
       "    </details></ul></details></ul>\n",
       "    <ul style=\"margin: 0px; list-style-position: outside;\">\n",
       "    <li style='margin-left:1em; padding-left: 0.5em'>binned = True</li></ul>\n",
       "    \n",
       "    <ul style=\"margin: 0px; list-style-position: outside;\">\n",
       "    <li style='margin-left:1em; padding-left: 0.5em'>quantity = Intensity (Counts)</li></ul>\n",
       "    \n",
       "    <ul style=\"margin: 0px; list-style-position: outside;\">\n",
       "    <li style='margin-left:1em; padding-left: 0.5em'>signal_type = EELS</li></ul>\n",
       "    </details></ul>"
      ],
      "text/plain": [
       "├── Acquisition_instrument\n",
       "│   └── TEM\n",
       "│       ├── Detector\n",
       "│       │   └── EELS\n",
       "│       │       ├── aperture_size = 5.0\n",
       "│       │       ├── collection_angle = 38.0\n",
       "│       │       ├── dwell_time = 9.990009990009651e-06\n",
       "│       │       ├── frame_number = 1\n",
       "│       │       └── spectrometer = GIF Quantum ERS\n",
       "│       ├── Stage\n",
       "│       │   ├── tilt_alpha = 0.006832006044919449\n",
       "│       │   ├── x = -0.07070080000000001\n",
       "│       │   ├── y = -0.0820228\n",
       "│       │   └── z = -0.041108200000000004\n",
       "│       ├── acquisition_mode = STEM\n",
       "│       ├── beam_current = 1.0\n",
       "│       ├── beam_energy = 300.0\n",
       "│       ├── camera_length = 29.5\n",
       "│       ├── convergence_angle = 17.0\n",
       "│       ├── magnification = 225000.0\n",
       "│       └── microscope = FEI Tecnai Remote\n",
       "├── General\n",
       "│   ├── date = 2021-09-12\n",
       "│   ├── original_filename = EELS Spectrum Image (low-loss).dm4\n",
       "│   ├── time = 15:55:35\n",
       "│   └── title = EELS Spectrum Image (low-loss)\n",
       "└── Signal\n",
       "    ├── Noise_properties\n",
       "    │   └── Variance_linear_model\n",
       "    │       ├── gain_factor = 1.0\n",
       "    │       └── gain_offset = 0.0\n",
       "    ├── binned = True\n",
       "    ├── quantity = Intensity (Counts)\n",
       "    └── signal_type = EELS"
      ]
     },
     "execution_count": 7,
     "metadata": {},
     "output_type": "execute_result"
    }
   ],
   "source": [
    " my_file.metadata "
   ]
  },
  {
   "cell_type": "code",
   "execution_count": 8,
   "id": "322ca185-e3f8-4a8f-aeae-ef0d6f80a56b",
   "metadata": {},
   "outputs": [],
   "source": [
    "# %%\n",
    "### access the firts element of the y axis\n",
    "##  and plot it, this is the firts strip \n",
    "## this is a plot od Electron counts vs micrometers \n",
    "my_file.isig[0].plot()"
   ]
  },
  {
   "cell_type": "code",
   "execution_count": 2,
   "id": "62e2c1f7-051e-492c-b0a9-88ddeef9bb7f",
   "metadata": {},
   "outputs": [],
   "source": [
    "# %%\n",
    "## access all the numbers of the image y axis this is raw data\n",
    "my_file.isig[0].data"
   ]
  },
  {
   "cell_type": "code",
   "execution_count": 2,
   "id": "d40d6b7b-4423-49d5-827e-94751da38e4f",
   "metadata": {},
   "outputs": [],
   "source": [
    "# %%\n",
    "## plot the whole image as shown in other software\n",
    "my_file.isig[1:1].plot()\n",
    "\n",
    "# my_file.signal2d.plot()\n",
    "# %%"
   ]
  },
  {
   "cell_type": "code",
   "execution_count": 9,
   "id": "db429123-1d26-43d4-98f4-f8a54ac70fde",
   "metadata": {},
   "outputs": [],
   "source": [
    "my_file.plot()"
   ]
  },
  {
   "cell_type": "code",
   "execution_count": 10,
   "id": "db902cc6-720d-4ded-813f-5fb4697e69ca",
   "metadata": {},
   "outputs": [
    {
     "data": {
      "text/plain": [
       "<EELSSpectrum, title: EELS Spectrum Image (low-loss), dimensions: (256, 256|2048)>"
      ]
     },
     "execution_count": 10,
     "metadata": {},
     "output_type": "execute_result"
    }
   ],
   "source": [
    "my_file.get_dimensions_from_data"
   ]
  },
  {
   "cell_type": "code",
   "execution_count": 11,
   "id": "a91455e1-a57a-4b7e-8116-a2ca265416c7",
   "metadata": {},
   "outputs": [],
   "source": [
    "my_file.inav[0].plot()"
   ]
  },
  {
   "cell_type": "code",
   "execution_count": 12,
   "id": "75f6f157-dda0-469f-868c-5306d648689c",
   "metadata": {},
   "outputs": [],
   "source": [
    "my_file.inav[-1].plot()"
   ]
  },
  {
   "cell_type": "code",
   "execution_count": 15,
   "id": "286f57b4-5e93-482f-98a9-d83be9a27096",
   "metadata": {},
   "outputs": [],
   "source": [
    "my_file.isig[0:256].plot()"
   ]
  },
  {
   "cell_type": "code",
   "execution_count": 21,
   "id": "7f364e92-9856-4b8c-8280-17fb541adafa",
   "metadata": {},
   "outputs": [],
   "source": [
    "my_file.isig[55:256].plot()"
   ]
  },
  {
   "cell_type": "code",
   "execution_count": 22,
   "id": "ca792e17-d582-47c5-937e-a7108413a5ef",
   "metadata": {},
   "outputs": [],
   "source": [
    "my_file.isig[56:256].plot()"
   ]
  },
  {
   "cell_type": "code",
   "execution_count": 23,
   "id": "6855f60f",
   "metadata": {},
   "outputs": [],
   "source": [
    "my_file.isig[200:256].plot()"
   ]
  },
  {
   "cell_type": "code",
   "execution_count": 25,
   "id": "5268000d",
   "metadata": {},
   "outputs": [
    {
     "name": "stderr",
     "output_type": "stream",
     "text": [
      "/Users/barradd/anaconda3/envs/hspy_environment/lib/python3.8/site-packages/hyperspy/drawing/signal1d.py:182: UserWarning: Attempting to set identical left == right == 55.0 results in singular transformations; automatically expanding.\n",
      "  plt.xlim(np.min(x_axis_lower_lims), np.max(x_axis_upper_lims))\n"
     ]
    }
   ],
   "source": [
    "my_file.isig[255:256].plot()"
   ]
  },
  {
   "cell_type": "code",
   "execution_count": 26,
   "id": "f9790b0e",
   "metadata": {},
   "outputs": [],
   "source": [
    "my_file.isig[254:256].plot()"
   ]
  },
  {
   "cell_type": "code",
   "execution_count": 35,
   "id": "d0f75138",
   "metadata": {},
   "outputs": [],
   "source": [
    "my_file.get_dimensions_from_data()"
   ]
  },
  {
   "cell_type": "code",
   "execution_count": 36,
   "id": "18252500",
   "metadata": {},
   "outputs": [
    {
     "data": {
      "text/plain": [
       "<EELSSpectrum, title: EELS Spectrum Image (low-loss), dimensions: (10, 10|2048)>"
      ]
     },
     "execution_count": 36,
     "metadata": {},
     "output_type": "execute_result"
    }
   ],
   "source": [
    "section_min , section_max = 0, 10\n",
    "my_file.inav[section_min:section_max, 0:10]"
   ]
  },
  {
   "cell_type": "code",
   "execution_count": 38,
   "id": "679eb625",
   "metadata": {},
   "outputs": [],
   "source": [
    "#a square of pixels 10X10 \n",
    "my_file.inav[section_min:section_max, 0:10].plot()"
   ]
  },
  {
   "cell_type": "code",
   "execution_count": 39,
   "id": "aa5feb3d",
   "metadata": {},
   "outputs": [],
   "source": [
    "# a strip of pixels 1 columns, 10 rows\n",
    "my_file.inav[section_min:1, 0:10].plot()"
   ]
  },
  {
   "cell_type": "code",
   "execution_count": 43,
   "id": "b10bc797",
   "metadata": {},
   "outputs": [],
   "source": [
    "# the firts pixel of them all\n",
    "my_file.inav[section_min:1, 0:1].plot()"
   ]
  },
  {
   "cell_type": "code",
   "execution_count": 46,
   "id": "027d79f0",
   "metadata": {},
   "outputs": [
    {
     "data": {
      "text/plain": [
       "array([[[14.805176 ,  8.285858 , 16.33014  , ...,  7.8687134,\n",
       "         -4.5708313,  2.044159 ]]], dtype=float32)"
      ]
     },
     "execution_count": 46,
     "metadata": {},
     "output_type": "execute_result"
    }
   ],
   "source": [
    "#get the data from the pixel \n",
    "my_file.inav[section_min:1, 0:1].data"
   ]
  },
  {
   "cell_type": "code",
   "execution_count": 47,
   "id": "90b90e4b",
   "metadata": {},
   "outputs": [],
   "source": [
    "my_data = my_file.inav[section_min:1, 0:1].data"
   ]
  },
  {
   "cell_type": "code",
   "execution_count": 49,
   "id": "1e9f6191",
   "metadata": {},
   "outputs": [
    {
     "data": {
      "text/plain": [
       "(1, 1, 2048)"
      ]
     },
     "execution_count": 49,
     "metadata": {},
     "output_type": "execute_result"
    }
   ],
   "source": [
    "# this is only one array with 2048 points \n",
    "my_data.shape"
   ]
  },
  {
   "cell_type": "code",
   "execution_count": 58,
   "id": "0a82eb39",
   "metadata": {},
   "outputs": [
    {
     "data": {
      "text/plain": [
       "[<matplotlib.lines.Line2D at 0x7fbfe5387250>]"
      ]
     },
     "execution_count": 58,
     "metadata": {},
     "output_type": "execute_result"
    }
   ],
   "source": [
    "## plot the spectrum\n",
    "plt.plot( my_data[0][0])"
   ]
  },
  {
   "cell_type": "code",
   "execution_count": 59,
   "id": "b2329814",
   "metadata": {},
   "outputs": [
    {
     "name": "stderr",
     "output_type": "stream",
     "text": [
      "WARNING:hyperspy.io_plugins.msa:TIME information missing.\n"
     ]
    }
   ],
   "source": [
    "## query the EELS database\n",
    "ll = hs.datasets.eelsdb(title=\"Hexagonal Boron Nitride\",\n",
    "                        spectrum_type=\"lowloss\")[0]"
   ]
  },
  {
   "cell_type": "code",
   "execution_count": 60,
   "id": "ccae24cf",
   "metadata": {},
   "outputs": [],
   "source": [
    "#plot the spectrum since this is already hs object \n",
    "ll.plot()"
   ]
  },
  {
   "cell_type": "code",
   "execution_count": 66,
   "id": "780ba68d",
   "metadata": {},
   "outputs": [
    {
     "data": {
      "text/plain": [
       "<EELSSpectrum, title: Hexagonal Boron Nitride, dimensions: (|1024)>"
      ]
     },
     "execution_count": 66,
     "metadata": {},
     "output_type": "execute_result"
    }
   ],
   "source": [
    "ll"
   ]
  },
  {
   "cell_type": "code",
   "execution_count": null,
   "id": "272b56b8",
   "metadata": {},
   "outputs": [],
   "source": []
  },
  {
   "cell_type": "code",
   "execution_count": null,
   "id": "e7a68a06",
   "metadata": {},
   "outputs": [],
   "source": []
  }
 ],
 "metadata": {
  "kernelspec": {
   "display_name": "Python 3 (ipykernel)",
   "language": "python",
   "name": "python3"
  },
  "language_info": {
   "codemirror_mode": {
    "name": "ipython",
    "version": 3
   },
   "file_extension": ".py",
   "mimetype": "text/x-python",
   "name": "python",
   "nbconvert_exporter": "python",
   "pygments_lexer": "ipython3",
   "version": "3.8.12"
  }
 },
 "nbformat": 4,
 "nbformat_minor": 5
}
